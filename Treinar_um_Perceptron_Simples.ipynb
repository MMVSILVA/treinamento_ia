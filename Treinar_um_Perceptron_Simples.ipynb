{
 "cells": [
  {
   "cell_type": "code",
   "execution_count": 5,
   "metadata": {
    "id": "K0MaeywD44jF"
   },
   "outputs": [],
   "source": [
    "import numpy as np"
   ]
  },
  {
   "cell_type": "markdown",
   "metadata": {
    "id": "OkYqcEPU7lPk"
   },
   "source": [
    "Hoje vamos criar uma rede de aprendizado supervisionado e treinar a rede, para \"sentirmos\" como é esse processo. \n",
    "\n",
    "Por enquanto tudo vai ser muito simples (três entradas, uma saída) com somente um neurônio. \n",
    "\n",
    "No entanto, nosso neurônio será mais \"poderoso\" do que o Perceptron que estudamos nas aulas anteriores. Esse novo neurônio será capaz de aprender a separar espaços não lineares. \n",
    "\n",
    "Estudaremos sobre ele na próxima aula, mas o importante é que usemos o código para descobrir como treinar e usar uma rede neural simples. Vamos lá:"
   ]
  },
  {
   "cell_type": "code",
   "execution_count": 6,
   "metadata": {
    "id": "8TSx-PxS8SF0"
   },
   "outputs": [],
   "source": [
    "# Vamos criar uma classe de neurônios \"do zero\", para ver como seria possível programar uma biblioteca de redes neurais,\n",
    "# ao invés de usarmos pacotes prontos:\n",
    "class NeuralNetwork():\n",
    "    \n",
    "    # Função que inicializa o neurônio:\n",
    "    def __init__(self):\n",
    "        # Cria um gerador de numeros aleatorios para inicializar os pesos dos neuronios:\n",
    "        np.random.seed(5)\n",
    "        \n",
    "        # Convertendo os pesos do neurônio (uma matriz de 3 por 1) \n",
    "        # com valores aleatorios entre -1 e 1 e média de 0:\n",
    "        self.synaptic_weights = 2 * np.random.random((3, 1)) - 1\n",
    "\n",
    "    # Calcula a função Sigmoide, permitindo que o neurônio consiga separas espaços não-lineares:\n",
    "    def sigmoid(self, x):\n",
    "        # Aplicando a função sigmoide:\n",
    "        return 1 / (1 + np.exp(-x))\n",
    "\n",
    "    # Calcula a derivada da sigmoide para encontrar o erro:\n",
    "    def sigmoid_derivative(self, x):\n",
    "        # Computando a derivada da funcão Sigmoid:\n",
    "        return x * (1 - x)\n",
    "\n",
    "    # Treina o neurônio, para que o erro diminua:\n",
    "    def train(self, training_inputs, training_outputs, training_iterations):\n",
    "        \n",
    "        # Treinando o modelo para realizar predições mais corretas (próximas do ideal):\n",
    "        for iteration in range(training_iterations):\n",
    "            \n",
    "            # Calculando a saída que a rede consegue atualmente:\n",
    "            output = self.think(training_inputs)\n",
    "\n",
    "            # Computando o erro da rede:\n",
    "            error = training_outputs - output\n",
    "            \n",
    "            # Ajustando os pesos de acordo com as entradas:\n",
    "            adjustments = np.dot(training_inputs.T, error * self.sigmoid_derivative(output))\n",
    "\n",
    "            # Somando o valor da diferença do erro aos pesos, fazendo a rede \"aprender\":\n",
    "            self.synaptic_weights += 0.15*adjustments\n",
    "\n",
    "    # Depois do treinamento, podemos \"usar\" a rede:\n",
    "    def think(self, inputs):\n",
    "      \n",
    "        # Passando as entradas (inputs) pelo neurônio para obter a saída, \n",
    "        # garantindo que os valores são floats:\n",
    "        \n",
    "        inputs = inputs.astype(float)\n",
    "        output = self.sigmoid(np.dot(inputs, self.synaptic_weights))\n",
    "        return output\n"
   ]
  },
  {
   "cell_type": "code",
   "execution_count": 7,
   "metadata": {
    "colab": {
     "base_uri": "https://localhost:8080/"
    },
    "id": "7AcInMW746BF",
    "outputId": "64990bd1-d7d0-4408-caa8-6d8a532c2f15"
   },
   "outputs": [
    {
     "name": "stdout",
     "output_type": "stream",
     "text": [
      "Iniciando com pesos de valores aleatórios: \n",
      "[[-0.55601366]\n",
      " [ 0.74146461]\n",
      " [-0.58656169]]\n",
      "Terminando pesos após o treinamento: \n",
      "[[ 6.94385572]\n",
      " [-0.21766059]\n",
      " [-3.25599368]]\n",
      "Primeira entrada do usuário: 0\n",
      "Segunda entrada do usuário: 1\n",
      "Terceira entrada do usuário: 1\n",
      "Considerando esses novos valores:  0 1 1\n",
      "O novo valor de saída será: \n",
      "[0.03007121]\n",
      "Muito bom!\n"
     ]
    }
   ],
   "source": [
    "# Criando uma função main para testar nosso neurônio:\n",
    "if __name__ == \"__main__\":\n",
    "\n",
    "    # Criando um objeto da classe NeuralNetwork:\n",
    "    neural_network = NeuralNetwork()\n",
    "\n",
    "    \n",
    "    print(\"Iniciando com pesos de valores aleatórios: \")\n",
    "    print(neural_network.synaptic_weights)\n",
    "\n",
    "    # Vamos hoje fazer os dados de treinamento (dataset) consistindo de somente 4 examples:\n",
    "    # 3 valores de entrada, e um valor de saída correspondente:\n",
    "    training_inputs = np.array([[0,0,1],\n",
    "                                [1,1,1],\n",
    "                                [1,0,1],\n",
    "                                [0,1,1]])\n",
    "\n",
    "    training_outputs = np.array([[0,1,1,0]]).T\n",
    "\n",
    "    # Treinando o neurônio 15000 vezes:\n",
    "    neural_network.train( training_inputs, training_outputs, 5000 )\n",
    "\n",
    "    print(\"Terminando pesos após o treinamento: \")\n",
    "    print(neural_network.synaptic_weights)\n",
    "\n",
    "    user_input_one = str(input(\"Primeira entrada do usuário: \"))\n",
    "    user_input_two = str(input(\"Segunda entrada do usuário: \"))\n",
    "    user_input_three = str(input(\"Terceira entrada do usuário: \"))\n",
    "    \n",
    "    print(\"Considerando esses novos valores: \", user_input_one, user_input_two, user_input_three)\n",
    "    print(\"O novo valor de saída será: \")\n",
    "    print(neural_network.think(np.array([user_input_one, user_input_two, user_input_three])))\n",
    "    print(\"Muito bom!\")\n"
   ]
  },
  {
   "cell_type": "markdown",
   "metadata": {
    "id": "NIa-e3Nh8rt2"
   },
   "source": [
    "Teste novamente com os dados e veja o valor de cada saída da rede. Compare o valor com o valor da saída desejada (do dataset)."
   ]
  },
  {
   "cell_type": "code",
   "execution_count": null,
   "metadata": {
    "id": "cashCKOs7iQH"
   },
   "outputs": [],
   "source": []
  },
  {
   "cell_type": "markdown",
   "metadata": {
    "id": "c2XDV8d89NI8"
   },
   "source": [
    "Agora faça tudo novamente, mas treine a rede por somente 150 iterações, ao invés de 15000, e depois refaça os testes acima:\n"
   ]
  }
 ],
 "metadata": {
  "colab": {
   "name": "Treinar um Perceptron Simples.ipynb",
   "provenance": []
  },
  "kernelspec": {
   "display_name": "Python 3 (ipykernel)",
   "language": "python",
   "name": "python3"
  },
  "language_info": {
   "codemirror_mode": {
    "name": "ipython",
    "version": 3
   },
   "file_extension": ".py",
   "mimetype": "text/x-python",
   "name": "python",
   "nbconvert_exporter": "python",
   "pygments_lexer": "ipython3",
   "version": "3.10.9"
  }
 },
 "nbformat": 4,
 "nbformat_minor": 1
}
